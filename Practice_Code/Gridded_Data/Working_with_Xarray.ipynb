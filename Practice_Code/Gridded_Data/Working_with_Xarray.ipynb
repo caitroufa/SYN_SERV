{
 "cells": [
  {
   "cell_type": "markdown",
   "id": "332d1618-46e2-49e0-8cb3-50d082ba304c",
   "metadata": {},
   "source": [
    "# Introduction to Working with Gridded Datasets"
   ]
  },
  {
   "cell_type": "code",
   "execution_count": 1,
   "id": "0d321c7e-66e1-47d2-a4a0-c245391f8f69",
   "metadata": {},
   "outputs": [],
   "source": [
    "import xarray as xr"
   ]
  },
  {
   "cell_type": "code",
   "execution_count": null,
   "id": "6ce28aa1-3537-424e-b9b1-c2dd85235d07",
   "metadata": {},
   "outputs": [],
   "source": []
  },
  {
   "cell_type": "code",
   "execution_count": null,
   "id": "0d99d50d-1a2b-4cf0-b03a-221a28de5833",
   "metadata": {},
   "outputs": [],
   "source": []
  },
  {
   "cell_type": "code",
   "execution_count": null,
   "id": "a69698f5-2ed0-4ccf-8915-c16518e94a2c",
   "metadata": {},
   "outputs": [],
   "source": []
  },
  {
   "cell_type": "code",
   "execution_count": null,
   "id": "2e6cb7fa-2e20-413d-a83c-1a20514b21a3",
   "metadata": {},
   "outputs": [],
   "source": []
  },
  {
   "cell_type": "code",
   "execution_count": null,
   "id": "83e8f26f-ed4c-44db-89b1-a399f07d1938",
   "metadata": {},
   "outputs": [],
   "source": []
  },
  {
   "cell_type": "code",
   "execution_count": null,
   "id": "68bbba65-9904-428e-b8e2-a599dfa0eb79",
   "metadata": {},
   "outputs": [],
   "source": []
  },
  {
   "cell_type": "code",
   "execution_count": null,
   "id": "7e36b70b-8e05-46c5-8909-00c4a25c4315",
   "metadata": {},
   "outputs": [],
   "source": []
  },
  {
   "cell_type": "code",
   "execution_count": null,
   "id": "658c42e7-0193-4bb1-bbfc-521ba2d80315",
   "metadata": {},
   "outputs": [],
   "source": []
  },
  {
   "cell_type": "code",
   "execution_count": null,
   "id": "2cfbc9f5-c09b-4857-b634-1bb60db38d29",
   "metadata": {},
   "outputs": [],
   "source": []
  }
 ],
 "metadata": {
  "kernelspec": {
   "display_name": "Python [conda env:pyEAE]",
   "language": "python",
   "name": "conda-env-pyEAE-py"
  },
  "language_info": {
   "codemirror_mode": {
    "name": "ipython",
    "version": 3
   },
   "file_extension": ".py",
   "mimetype": "text/x-python",
   "name": "python",
   "nbconvert_exporter": "python",
   "pygments_lexer": "ipython3",
   "version": "3.9.13"
  }
 },
 "nbformat": 4,
 "nbformat_minor": 5
}
