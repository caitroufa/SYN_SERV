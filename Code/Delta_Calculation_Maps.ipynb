{
 "cells": [
  {
   "cell_type": "markdown",
   "id": "5de57ece-538f-4d42-8400-68b9a1f68f04",
   "metadata": {},
   "source": [
    "# Delta Calculation Maps"
   ]
  },
  {
   "cell_type": "code",
   "execution_count": null,
   "id": "8e170dd9-d4c8-4703-9de7-6fb86e94dfe6",
   "metadata": {},
   "outputs": [],
   "source": []
  },
  {
   "cell_type": "code",
   "execution_count": null,
   "id": "7d5fd4e7-9174-4057-a7fd-430414b92db1",
   "metadata": {},
   "outputs": [],
   "source": []
  },
  {
   "cell_type": "code",
   "execution_count": null,
   "id": "83b3046c-2c64-440a-ad41-a4a17c305c8a",
   "metadata": {},
   "outputs": [],
   "source": []
  },
  {
   "cell_type": "code",
   "execution_count": null,
   "id": "44b29b58-a4cd-4866-b338-fbf1fd616733",
   "metadata": {},
   "outputs": [],
   "source": []
  },
  {
   "cell_type": "code",
   "execution_count": null,
   "id": "32e6f0a5-d500-44fc-9774-6229c517d18b",
   "metadata": {},
   "outputs": [],
   "source": []
  },
  {
   "cell_type": "code",
   "execution_count": null,
   "id": "3e06f17c-e96e-4246-8960-0b424d2bdb27",
   "metadata": {},
   "outputs": [],
   "source": []
  },
  {
   "cell_type": "code",
   "execution_count": null,
   "id": "e56e9152-5c38-453e-802e-7e9e825e1813",
   "metadata": {},
   "outputs": [],
   "source": []
  },
  {
   "cell_type": "code",
   "execution_count": null,
   "id": "bff8f498-ee46-446b-9227-c141c4714cb5",
   "metadata": {},
   "outputs": [],
   "source": []
  }
 ],
 "metadata": {
  "kernelspec": {
   "display_name": "Python [conda env:pyEAE]",
   "language": "python",
   "name": "conda-env-pyEAE-py"
  },
  "language_info": {
   "codemirror_mode": {
    "name": "ipython",
    "version": 3
   },
   "file_extension": ".py",
   "mimetype": "text/x-python",
   "name": "python",
   "nbconvert_exporter": "python",
   "pygments_lexer": "ipython3",
   "version": "3.9.13"
  }
 },
 "nbformat": 4,
 "nbformat_minor": 5
}
