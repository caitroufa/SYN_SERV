{
 "cells": [
  {
   "cell_type": "markdown",
   "id": "b8c186cf-38d3-4c97-93be-b6f48e94ebce",
   "metadata": {},
   "source": [
    "# Thresholding Diagram"
   ]
  },
  {
   "cell_type": "code",
   "execution_count": 1,
   "id": "f7d483d0-2cac-4768-b7fc-8ac13b08991c",
   "metadata": {},
   "outputs": [],
   "source": [
    "import matplotlib.pyplot as plt\n",
    "import random\n",
    "import numpy as np\n",
    "import xarray as xr"
   ]
  },
  {
   "cell_type": "code",
   "execution_count": 2,
   "id": "6d96f341-ec65-40d1-abda-1049af237d61",
   "metadata": {},
   "outputs": [],
   "source": [
    "from matplotlib.colors import ListedColormap, BoundaryNorm\n",
    "def radar_colormap():\n",
    "    r\"\"\"Returns an NWS colormap.\n",
    "    \n",
    "    Parameters\n",
    "    ----------\n",
    "        \n",
    "    Returns\n",
    "    -------\n",
    "    cmap: ListedColormap\n",
    "        NWS-like radar colormap.\n",
    "    \"\"\" \n",
    " \n",
    "    nws_reflectivity_colors = [\"#ffffff\",  # 0\n",
    "                               \"#04e9e7\",  # 5\n",
    "                               \"#019ff4\",  # 10\n",
    "                               \"#0300f4\",  # 15\n",
    "                               \"#02fd02\",  # 20\n",
    "                               \"#01c501\",  # 25\n",
    "                               \"#008e00\",  # 30\n",
    "                               \"#fdf802\",  # 35\n",
    "                               \"#e5bc00\",  # 40\n",
    "                               \"#fd9500\",  # 45\n",
    "                               \"#fd0000\",  # 50\n",
    "                               \"#d40000\",  # 55\n",
    "                               \"#bc0000\",  # 60\n",
    "                               \"#f800fd\",  # 65\n",
    "                               \"#9854c6\",  # 70\n",
    "                               \"#4B0082\",  # 75\n",
    "                               \"#000000\"]\n",
    "                                \n",
    "    cmap = ListedColormap(nws_reflectivity_colors)\n",
    "    \n",
    "    return cmap"
   ]
  },
  {
   "cell_type": "code",
   "execution_count": 3,
   "id": "c6e04cd0-7cfe-4cdf-9578-7f0e639dcf8b",
   "metadata": {},
   "outputs": [],
   "source": [
    "def radar_norm():\n",
    "    r\"\"\"Return a colormap and normalization that allow you to represent\n",
    "    radar data with colors every 5 dBZ that mimics the official NWS\n",
    "    radar images.\n",
    "    \n",
    "    Parameters\n",
    "    ----------\n",
    "        \n",
    "    Returns\n",
    "    -------\n",
    "    cmap: ListedColormap\n",
    "        NWS-like radar colormap.\n",
    "    norm: BoundaryNorm\n",
    "        Normalization for 5 dBZ levels (0-80).\n",
    "    \"\"\" \n",
    "\n",
    "    cmap = radar_colormap()\n",
    "    classes = np.array(list(range(0, 85, 5)))\n",
    "    norm = BoundaryNorm(classes, ncolors=cmap.N)    \n",
    "    \n",
    "    return cmap, norm\n",
    "\n",
    "cmap, norm = radar_norm()"
   ]
  },
  {
   "cell_type": "markdown",
   "id": "306f9986-98f8-4638-bdde-9c6ef9682a1b",
   "metadata": {},
   "source": [
    "### Open and Subset the Data"
   ]
  },
  {
   "cell_type": "code",
   "execution_count": 4,
   "id": "5a98aab9-2fc4-46ba-be0c-7d26d3973f87",
   "metadata": {},
   "outputs": [],
   "source": [
    "#open datasets to create example plots\n",
    "ds_ref = xr.open_mfdataset('/home/scratch/WRF_BCC/reflectivity/REFD/historical/1991-1992/REFD_historical-1991-1992_1992-06-*.nc')\n",
    "ds_uvv = xr.open_mfdataset('/home/scratch/WRF_BCC/severe_weather/W_UP_MAX/historical/1991-1992/1992-06-*.nc')\n",
    "ds_uh = xr.open_mfdataset('/home/scratch/WRF_BCC/severe_weather/UP_HELI_MAX/historical/1991-1992/UP_HELI_MAX_historical-1991-1992_1992-06-*.nc')"
   ]
  },
  {
   "cell_type": "code",
   "execution_count": 5,
   "id": "b6fb0a8e-534b-498b-8845-b83d99f1743f",
   "metadata": {},
   "outputs": [],
   "source": [
    "#find maximum reflectivity value\n",
    "location = np.where(ds_ref.REFD.values==np.max(ds_ref.REFD.values))"
   ]
  },
  {
   "cell_type": "code",
   "execution_count": 6,
   "id": "e7441a8b-d214-44cb-adf7-8fa089baca7d",
   "metadata": {},
   "outputs": [],
   "source": [
    "#Create subsets of the reflectivity, updraft helicity, and upward vertical velocites. \n",
    "refc_data = ds_ref.REFD.sel(Time=ds_ref.Time.values[location[0][0]], south_north=slice(location[1][0]-12,location[1][0]+12),\n",
    "                        west_east=slice(location[2][0]-12,location[2][0]+12)).values\n",
    "\n",
    "uvv_data = ds_uvv.W_UP_MAX.sel(Time=ds_ref.Time.values[location[0][0]], south_north=slice(location[1][0]-12,location[1][0]+12),\n",
    "                             west_east=slice(location[2][0]-12,location[2][0]+12)).values\n",
    "\n",
    "uh_data = ds_uh.UP_HELI_MAX.sel(Time=ds_ref.Time.values[location[0][0]], south_north=slice(location[1][0]-12,location[1][0]+12),\n",
    "                             west_east=slice(location[2][0]-12,location[2][0]+12)).values"
   ]
  },
  {
   "cell_type": "markdown",
   "id": "ec56ab17-0896-46a6-8ad4-1864b45b6a54",
   "metadata": {},
   "source": [
    "### Create the Plot"
   ]
  },
  {
   "cell_type": "code",
   "execution_count": 25,
   "id": "aa8c2339-b459-46bd-b433-78b31bcfb66e",
   "metadata": {},
   "outputs": [
    {
     "data": {
      "image/png": "[encoded data removed]",
      "text/plain": [
       "<Figure size 250x750 with 3 Axes>"
      ]
     },
     "metadata": {},
     "output_type": "display_data"
    }
   ],
   "source": [
    "#Create a subplot\n",
    "plt.figure(figsize=(2.5,7.5))\n",
    "\n",
    "#iterate through the subplot\n",
    "for i in range(3):\n",
    "    ax = plt.subplot(3,1,i+1)\n",
    "    \n",
    "    #reflectivity plot\n",
    "    if i == 0:\n",
    "        plt.pcolormesh(refc_data, cmap=cmap, norm=norm)\n",
    "        ax.annotate('Reflectivity', xy=(-0.25,0.32), xycoords='axes fraction', fontsize=15, rotation='vertical')\n",
    "    \n",
    "    #updraft helicity plot\n",
    "    elif i == 1:\n",
    "        plt.pcolormesh(uh_data, cmap='afmhot_r')\n",
    "        ax.annotate('Updraft Helicity', xy=(-0.25,0.21), xycoords='axes fraction', fontsize=15, rotation='vertical')\n",
    "        \n",
    "        \n",
    "    elif i == 2:\n",
    "        plt.pcolormesh(uvv_data, cmap='bone_r')\n",
    "        ax.annotate('Upwardy=(-0.25,0.21), xycoords='axes fraction', fontsize=15, rotation='vertical')"
   ]
  },
  {
   "cell_type": "code",
   "execution_count": null,
   "id": "76d713d2-5de2-4729-88d1-4e616eb71795",
   "metadata": {},
   "outputs": [],
   "source": []
  }
 ],
 "metadata": {
  "kernelspec": {
   "display_name": "Python [conda env:pyEAE]",
   "language": "python",
   "name": "conda-env-pyEAE-py"
  },
  "language_info": {
   "codemirror_mode": {
    "name": "ipython",
    "version": 3
   },
   "file_extension": ".py",
   "mimetype": "text/x-python",
   "name": "python",
   "nbconvert_exporter": "python",
   "pygments_lexer": "ipython3",
   "version": "3.9.13"
  }
 },
 "nbformat": 4,
 "nbformat_minor": 5
}
