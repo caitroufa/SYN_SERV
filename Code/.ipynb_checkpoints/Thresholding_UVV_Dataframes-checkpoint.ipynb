{
 "cells": [
  {
   "cell_type": "markdown",
   "id": "31a4c5b9-328b-41c1-a63b-d663786b82d9",
   "metadata": {},
   "source": [
    "# Thresholding Updraft Helicity"
   ]
  },
  {
   "cell_type": "code",
   "execution_count": 1,
   "id": "979b7763-0b6a-4843-8c92-634f9c313683",
   "metadata": {},
   "outputs": [],
   "source": [
    "import xarray as xr\n",
    "import numpy as np\n",
    "import pandas as pd\n",
    "import glob\n",
    "import xoak\n",
    "import geopandas as gpd\n",
    "import regionmask\n",
    "\n",
    "import warnings\n",
    "warnings.filterwarnings('ignore')"
   ]
  },
  {
   "cell_type": "code",
   "execution_count": 2,
   "id": "28b69644-501f-4ba0-a07b-b30058ff41ff",
   "metadata": {},
   "outputs": [],
   "source": [
    "#find directories with the WRF-BCC data\n",
    "uh_dirts = glob.glob('/home/scratch/WRF_BCC/severe_weather/UP_HELI_MAX/historical/*')\n",
    "uh_dirts.sort()\n",
    "uh_dirts = uh_dirts[:-1]\n",
    "\n",
    "ref_dirts = glob.glob('/home/scratch/WRF_BCC/reflectivity/REFD/historical/*')\n",
    "ref_dirts.sort()\n",
    "ref_dirts = ref_dirts[:]\n",
    "\n",
    "uvv_dirts = glob.glob('/home/scratch/WRF_BCC/severe_weather/W_UP_MAX/historical/*')\n",
    "uvv_dirts.sort()"
   ]
  },
  {
   "cell_type": "markdown",
   "id": "f3f567fc-08f1-4f10-b48a-d2b2916b64e8",
   "metadata": {},
   "source": [
    "### Mask US Data"
   ]
  },
  {
   "cell_type": "code",
   "execution_count": 3,
   "id": "1f0c2b78-2a32-4289-85d7-fb67e56ee96e",
   "metadata": {},
   "outputs": [],
   "source": [
    "#load the WRF-BCC geog and a random refc dummy file\n",
    "geog = xr.open_dataset(\"/home/scratch/WRF_BCC/geography/geo_em.d01.nc\")\n",
    "ds = xr.open_mfdataset('/home/scratch/WRF_BCC/reflectivity/REFD/historical/1990-1991/*.nc')\n",
    "\n",
    "#merge the files and create needed infomation\n",
    "ds = xr.merge([ds, geog.squeeze()])\n",
    "ds = ds.rename({\"CLONG\": 'lon', 'CLAT': 'lat'})\n",
    "ds = ds.assign_coords({'x': ds.west_east, 'y': ds.south_north})\n",
    "ds = ds.assign_coords({'lon': ds.lon, 'lat': ds.lat})\n",
    "\n",
    "#set the lat-lon as the index\n",
    "ds.xoak.set_index(['lat', 'lon'], 'sklearn_geo_balltree')"
   ]
  },
  {
   "cell_type": "code",
   "execution_count": 4,
   "id": "3aaff5df-dd8c-41a2-b526-20f98334b047",
   "metadata": {},
   "outputs": [],
   "source": [
    "#load an USA shapefile\n",
    "usa = gpd.read_file(\"/home/jcorner1/Unidata/shapefiles/smoothing_econus.shp\")\n",
    "\n",
    "#mask the data out\n",
    "state_mask = regionmask.mask_geopandas(usa, ds.lon, ds.lat)\n",
    "ma = state_mask.values\n",
    "ma[~np.isnan(ma)] = 1"
   ]
  },
  {
   "cell_type": "markdown",
   "id": "220e1bbc-a531-4152-8a0f-efca3b4d5fc3",
   "metadata": {},
   "source": [
    "### Threshold Data"
   ]
  },
  {
   "cell_type": "code",
   "execution_count": null,
   "id": "ce10fa6e-98ab-411f-b98f-bf6f9648ccdd",
   "metadata": {},
   "outputs": [
    {
     "name": "stdout",
     "output_type": "stream",
     "text": [
      "current year: 1990\n"
     ]
    }
   ],
   "source": [
    "#iterate through each year (directory)\n",
    "for dirt_number in range(len(uh_dirts)):\n",
    "    \n",
    "    #open all the data within the directory\n",
    "    print(f'current year: {int(uh_dirts[dirt_number][-4:])-1}')\n",
    "    uh_ds = xr.open_mfdataset(f'{uh_dirts[dirt_number]}/*HELI_MAX*.nc')\n",
    "    ref_ds = xr.open_mfdataset(f'{ref_dirts[dirt_number]}/*.nc')\n",
    "    uvv_ds = xr.open_mfdataset(f'{uvv_dirts[dirt_number]}/*.nc')\n",
    "\n",
    "    #grab all values\n",
    "    uh_val = uh_ds.UP_HELI_MAX.values\n",
    "    refc_val = ref_ds.REFD.values\n",
    "    uvv_val = uvv_ds.W_UP_MAX.values\n",
    "    \n",
    "    #subset times\n",
    "    times = uh_ds.Time.values\n",
    "    \n",
    "    #threshold upward vertical velocities, reflectivity, and updraft helicity values. \n",
    "    thr_uh = uh_ds.where(uh_val >= 35.0, 0)\n",
    "    thr_uh = thr_uh.where(thr_uh.UP_HELI_MAX.values <= 35.0, 1)\n",
    "    \n",
    "    #Give all areas with a UH of 75+ and reflectivity of 50+ a value of 1. \n",
    "    thr_val = thr_uh.UP_HELI_MAX.values * ma\n",
    "    \n",
    "    #find locations where the value is 1.\n",
    "    locations = np.where(thr_val >= 1)\n",
    "    print(f'done thresholding! {len(locations[0])} potential storms')\n",
    "    \n",
    "    #close files\n",
    "    thr_uh.close()\n",
    "    uh_ds.close()\n",
    "    \n",
    "    #create pandas dataframe\n",
    "    df = pd.DataFrame(columns=['x', 'y', 'Time', 'UH'])\n",
    "\n",
    "    #iterate through all potential center points. \n",
    "    for point in range(len(locations[0])):\n",
    "\n",
    "        #save important attribute values for center points\n",
    "        time = locations[0][point]\n",
    "        y = locations[1][point] \n",
    "        x = locations[2][point]\n",
    "        \n",
    "        #add lines to the pandas dataframe\n",
    "        str_time = np.datetime_as_string(times[time])\n",
    "        df = df.append({'x': x, 'y':y, 'Time':str_time, 'DBZ': refc_val[time,y,x], \n",
    "                        'UH': uh_val[time,y,x], 'UVV':uvv_val[time,y,x]}, ignore_index=True)\n",
    "\n",
    "    #Save the dataframe as the csv.\n",
    "    df.to_csv(f'/home/scratch/jcorner1/syn_sev/dataframes/HIST_UH_{str_time[:4]}_threshold_dataframe.csv')\n"
   ]
  },
  {
   "cell_type": "code",
   "execution_count": null,
   "id": "3f0c56f3-38fc-47da-8bb0-7c49ec5f959a",
   "metadata": {},
   "outputs": [],
   "source": []
  }
 ],
 "metadata": {
  "kernelspec": {
   "display_name": "Python [conda env:pyEAE]",
   "language": "python",
   "name": "conda-env-pyEAE-py"
  },
  "language_info": {
   "codemirror_mode": {
    "name": "ipython",
    "version": 3
   },
   "file_extension": ".py",
   "mimetype": "text/x-python",
   "name": "python",
   "nbconvert_exporter": "python",
   "pygments_lexer": "ipython3",
   "version": "3.9.13"
  }
 },
 "nbformat": 4,
 "nbformat_minor": 5
}
