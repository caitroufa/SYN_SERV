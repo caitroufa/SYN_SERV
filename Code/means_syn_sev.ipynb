{
 "cells": [
  {
   "cell_type": "code",
   "execution_count": 1,
   "id": "e206e81d-60cd-47c5-9c88-f1b303a9cbb0",
   "metadata": {},
   "outputs": [],
   "source": [
    "import pandas as pd\n",
    "import glob"
   ]
  },
  {
   "cell_type": "code",
   "execution_count": 2,
   "id": "58d6d387-2ed2-44c9-af51-05f75d9b87d2",
   "metadata": {},
   "outputs": [],
   "source": [
    "# Define individual variables for each file path and give them names\n",
    "paths = {\n",
    "    \"HIST\": '/home/scratch/jcorner1/syn_sev/dataframes/HIST_UVV_[21]*_*.csv',\n",
    "    \"EOC_8p5\": '/home/scratch/jcorner1/syn_sev/dataframes/EOC8p5_UVV*.csv',\n",
    "    \"MC_8p5\": '/home/scratch/jcorner1/syn_sev/dataframes/MC8p5_UVV*.csv',\n",
    "    \"EOC_4p5\": '/home/scratch/jcorner1/syn_sev/dataframes/EOC4p5_UVV*.csv',\n",
    "    \"MC_4p5\": '/home/scratch/jcorner1/syn_sev/dataframes/MC4p5_UVV*.csv'\n",
    "}"
   ]
  },
  {
   "cell_type": "code",
   "execution_count": 3,
   "id": "0a0e3a59-3076-472c-a712-0c7d97d59bc4",
   "metadata": {},
   "outputs": [],
   "source": [
    "def preprocess_and_analyze_data(path):\n",
    "    data_frames = [pd.read_csv(file) for file in glob.glob(path)]\n",
    "    data = pd.concat(data_frames)\n",
    "    # Apply thresholds: UVV >= 25 m2s2 and Z >= 40 dbz\n",
    "    filtered_data = data[(data['UVV'] >= 25) & (data['DBZ'] >= 40)]\n",
    "    \n",
    "    filtered_data['Year'] = pd.to_datetime(filtered_data['Time']).dt.year\n",
    "    \n",
    "    yearly_counts = filtered_data.groupby('Year').size()  # Using .size() to count occurrences per year\n",
    "    return yearly_counts"
   ]
  },
  {
   "cell_type": "code",
   "execution_count": 4,
   "id": "0c9df177-1ab9-4198-b8c1-47593db4b894",
   "metadata": {},
   "outputs": [
    {
     "name": "stderr",
     "output_type": "stream",
     "text": [
      "/tmp/ipykernel_65343/234739364.py:7: SettingWithCopyWarning: \n",
      "A value is trying to be set on a copy of a slice from a DataFrame.\n",
      "Try using .loc[row_indexer,col_indexer] = value instead\n",
      "\n",
      "See the caveats in the documentation: https://pandas.pydata.org/pandas-docs/stable/user_guide/indexing.html#returning-a-view-versus-a-copy\n",
      "  filtered_data['Year'] = pd.to_datetime(filtered_data['Time']).dt.year\n",
      "/tmp/ipykernel_65343/234739364.py:7: SettingWithCopyWarning: \n",
      "A value is trying to be set on a copy of a slice from a DataFrame.\n",
      "Try using .loc[row_indexer,col_indexer] = value instead\n",
      "\n",
      "See the caveats in the documentation: https://pandas.pydata.org/pandas-docs/stable/user_guide/indexing.html#returning-a-view-versus-a-copy\n",
      "  filtered_data['Year'] = pd.to_datetime(filtered_data['Time']).dt.year\n",
      "/tmp/ipykernel_65343/234739364.py:7: SettingWithCopyWarning: \n",
      "A value is trying to be set on a copy of a slice from a DataFrame.\n",
      "Try using .loc[row_indexer,col_indexer] = value instead\n",
      "\n",
      "See the caveats in the documentation: https://pandas.pydata.org/pandas-docs/stable/user_guide/indexing.html#returning-a-view-versus-a-copy\n",
      "  filtered_data['Year'] = pd.to_datetime(filtered_data['Time']).dt.year\n",
      "/tmp/ipykernel_65343/234739364.py:7: SettingWithCopyWarning: \n",
      "A value is trying to be set on a copy of a slice from a DataFrame.\n",
      "Try using .loc[row_indexer,col_indexer] = value instead\n",
      "\n",
      "See the caveats in the documentation: https://pandas.pydata.org/pandas-docs/stable/user_guide/indexing.html#returning-a-view-versus-a-copy\n",
      "  filtered_data['Year'] = pd.to_datetime(filtered_data['Time']).dt.year\n"
     ]
    },
    {
     "name": "stdout",
     "output_type": "stream",
     "text": [
      "Mean counts for HIST: 9529.9375\n",
      "Mean counts for EOC_8p5: 17905.75\n",
      "Mean counts for MC_8p5: 12677.375\n",
      "Mean counts for EOC_4p5: 13322.25\n",
      "Mean counts for MC_4p5: 12112.375\n"
     ]
    },
    {
     "name": "stderr",
     "output_type": "stream",
     "text": [
      "/tmp/ipykernel_65343/234739364.py:7: SettingWithCopyWarning: \n",
      "A value is trying to be set on a copy of a slice from a DataFrame.\n",
      "Try using .loc[row_indexer,col_indexer] = value instead\n",
      "\n",
      "See the caveats in the documentation: https://pandas.pydata.org/pandas-docs/stable/user_guide/indexing.html#returning-a-view-versus-a-copy\n",
      "  filtered_data['Year'] = pd.to_datetime(filtered_data['Time']).dt.year\n"
     ]
    }
   ],
   "source": [
    "# calc yearly mean counts for each epoch\n",
    "yearly_counts = {}\n",
    "for epoch, path in paths.items():\n",
    "    yearly_counts[epoch] = preprocess_and_analyze_data(path)\n",
    "\n",
    "# calc climatological mean for each epoch\n",
    "climatological_mean = {}\n",
    "for epoch, counts in yearly_counts.items():\n",
    "    climatological_mean[epoch] = counts.mean()\n",
    "\n",
    "# print climatological mean counts for each epoch\n",
    "for epoch, mean_count in climatological_mean.items():\n",
    "    print(f'Mean counts for {epoch}: {mean_count}')"
   ]
  },
  {
   "cell_type": "code",
   "execution_count": 5,
   "id": "da0fc0ed-31f1-4c1b-8333-f119e78d470f",
   "metadata": {},
   "outputs": [
    {
     "name": "stdout",
     "output_type": "stream",
     "text": [
      "Median counts for HIST: 9902.5\n",
      "Median counts for EOC_8p5: 19474.5\n",
      "Median counts for MC_8p5: 13621.5\n",
      "Median counts for EOC_4p5: 13990.0\n",
      "Median counts for MC_4p5: 11727.0\n"
     ]
    }
   ],
   "source": [
    "# calc climatological median for each epoch\n",
    "climatological_median = {}\n",
    "for epoch, counts in yearly_counts.items():\n",
    "    climatological_median[epoch] = counts.median()\n",
    "    \n",
    "# print climatological median for each epoch\n",
    "for epoch, median_count in climatological_median.items():\n",
    "    print(f'Median counts for {epoch}: {median_count}')"
   ]
  },
  {
   "cell_type": "code",
   "execution_count": 6,
   "id": "d4035ee5-2bc9-4a59-b863-921270a3d21c",
   "metadata": {},
   "outputs": [
    {
     "name": "stdout",
     "output_type": "stream",
     "text": [
      "Relative change mean for EOC_8p5: 87.9%\n",
      "Relative change mean for MC_8p5: 33.0%\n",
      "Relative change mean for EOC_4p5: 39.8%\n",
      "Relative change mean for MC_4p5: 27.1%\n"
     ]
    }
   ],
   "source": [
    "# calc relative change percent between each future epoch and HIST for means\n",
    "relative_change_mean = {}\n",
    "for epoch, mean_count in climatological_mean.items():\n",
    "    if epoch != 'HIST':  # exclude HIST\n",
    "        relative_change_mean[epoch] = ((mean_count - climatological_mean['HIST']) / climatological_mean['HIST']) * 100\n",
    "\n",
    "# print relative change percent mean\n",
    "for epoch, relative_change in relative_change_mean.items():\n",
    "    print(f'Relative change mean for {epoch}: {relative_change:.1f}%')"
   ]
  },
  {
   "cell_type": "code",
   "execution_count": 7,
   "id": "e29ed879-c3ce-40ba-9c7c-f74f897d6bbe",
   "metadata": {},
   "outputs": [
    {
     "name": "stdout",
     "output_type": "stream",
     "text": [
      "Relative change median for EOC_8p5: 96.7%\n",
      "Relative change median for MC_8p5: 37.6%\n",
      "Relative change median for EOC_4p5: 41.3%\n",
      "Relative change median for MC_4p5: 18.4%\n"
     ]
    }
   ],
   "source": [
    "# calc relative change percent between each future epoch and HIST for medians\n",
    "relative_change_median = {}\n",
    "for epoch, median_count in climatological_median.items():\n",
    "    if epoch != 'HIST': # exclude HIST\n",
    "        relative_change_median[epoch] = ((median_count - climatological_median['HIST']) / climatological_median['HIST']) * 100.\n",
    "        \n",
    "# print relative change percent median\n",
    "for epoch, relative_change_m in relative_change_median.items():\n",
    "    print(f'Relative change median for {epoch}: {relative_change_m:.1f}%')"
   ]
  }
 ],
 "metadata": {
  "kernelspec": {
   "display_name": "Python [conda env:pyEAE]",
   "language": "python",
   "name": "conda-env-pyEAE-py"
  },
  "language_info": {
   "codemirror_mode": {
    "name": "ipython",
    "version": 3
   },
   "file_extension": ".py",
   "mimetype": "text/x-python",
   "name": "python",
   "nbconvert_exporter": "python",
   "pygments_lexer": "ipython3",
   "version": "3.9.13"
  }
 },
 "nbformat": 4,
 "nbformat_minor": 5
}
